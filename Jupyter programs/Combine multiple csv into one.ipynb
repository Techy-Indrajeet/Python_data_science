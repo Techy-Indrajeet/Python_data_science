{
 "cells": [
  {
   "cell_type": "code",
   "execution_count": 3,
   "id": "9a948c6f",
   "metadata": {},
   "outputs": [
    {
     "name": "stderr",
     "output_type": "stream",
     "text": [
      "C:\\Users\\Indrajeet Singh\\AppData\\Local\\Temp\\ipykernel_34592\\2133473780.py:6: FutureWarning: The frame.append method is deprecated and will be removed from pandas in a future version. Use pandas.concat instead.\n",
      "  csv_combine=csv_combine.append(pd.read_csv(file))\n",
      "C:\\Users\\Indrajeet Singh\\AppData\\Local\\Temp\\ipykernel_34592\\2133473780.py:6: FutureWarning: The frame.append method is deprecated and will be removed from pandas in a future version. Use pandas.concat instead.\n",
      "  csv_combine=csv_combine.append(pd.read_csv(file))\n",
      "C:\\Users\\Indrajeet Singh\\AppData\\Local\\Temp\\ipykernel_34592\\2133473780.py:6: FutureWarning: The frame.append method is deprecated and will be removed from pandas in a future version. Use pandas.concat instead.\n",
      "  csv_combine=csv_combine.append(pd.read_csv(file))\n",
      "C:\\Users\\Indrajeet Singh\\AppData\\Local\\Temp\\ipykernel_34592\\2133473780.py:6: FutureWarning: The frame.append method is deprecated and will be removed from pandas in a future version. Use pandas.concat instead.\n",
      "  csv_combine=csv_combine.append(pd.read_csv(file))\n",
      "C:\\Users\\Indrajeet Singh\\AppData\\Local\\Temp\\ipykernel_34592\\2133473780.py:6: FutureWarning: The frame.append method is deprecated and will be removed from pandas in a future version. Use pandas.concat instead.\n",
      "  csv_combine=csv_combine.append(pd.read_csv(file))\n",
      "C:\\Users\\Indrajeet Singh\\AppData\\Local\\Temp\\ipykernel_34592\\2133473780.py:6: FutureWarning: The frame.append method is deprecated and will be removed from pandas in a future version. Use pandas.concat instead.\n",
      "  csv_combine=csv_combine.append(pd.read_csv(file))\n",
      "C:\\Users\\Indrajeet Singh\\AppData\\Local\\Temp\\ipykernel_34592\\2133473780.py:6: FutureWarning: The frame.append method is deprecated and will be removed from pandas in a future version. Use pandas.concat instead.\n",
      "  csv_combine=csv_combine.append(pd.read_csv(file))\n",
      "C:\\Users\\Indrajeet Singh\\AppData\\Local\\Temp\\ipykernel_34592\\2133473780.py:6: FutureWarning: The frame.append method is deprecated and will be removed from pandas in a future version. Use pandas.concat instead.\n",
      "  csv_combine=csv_combine.append(pd.read_csv(file))\n",
      "C:\\Users\\Indrajeet Singh\\AppData\\Local\\Temp\\ipykernel_34592\\2133473780.py:6: FutureWarning: The frame.append method is deprecated and will be removed from pandas in a future version. Use pandas.concat instead.\n",
      "  csv_combine=csv_combine.append(pd.read_csv(file))\n",
      "C:\\Users\\Indrajeet Singh\\AppData\\Local\\Temp\\ipykernel_34592\\2133473780.py:6: FutureWarning: The frame.append method is deprecated and will be removed from pandas in a future version. Use pandas.concat instead.\n",
      "  csv_combine=csv_combine.append(pd.read_csv(file))\n",
      "C:\\Users\\Indrajeet Singh\\AppData\\Local\\Temp\\ipykernel_34592\\2133473780.py:6: FutureWarning: The frame.append method is deprecated and will be removed from pandas in a future version. Use pandas.concat instead.\n",
      "  csv_combine=csv_combine.append(pd.read_csv(file))\n",
      "C:\\Users\\Indrajeet Singh\\AppData\\Local\\Temp\\ipykernel_34592\\2133473780.py:6: FutureWarning: The frame.append method is deprecated and will be removed from pandas in a future version. Use pandas.concat instead.\n",
      "  csv_combine=csv_combine.append(pd.read_csv(file))\n",
      "C:\\Users\\Indrajeet Singh\\AppData\\Local\\Temp\\ipykernel_34592\\2133473780.py:6: DtypeWarning: Columns (2,12) have mixed types. Specify dtype option on import or set low_memory=False.\n",
      "  csv_combine=csv_combine.append(pd.read_csv(file))\n",
      "C:\\Users\\Indrajeet Singh\\AppData\\Local\\Temp\\ipykernel_34592\\2133473780.py:6: FutureWarning: The frame.append method is deprecated and will be removed from pandas in a future version. Use pandas.concat instead.\n",
      "  csv_combine=csv_combine.append(pd.read_csv(file))\n"
     ]
    }
   ],
   "source": [
    "import pandas as pd\n",
    "import os \n",
    "csv_combine=pd.DataFrame()\n",
    "for file in os.listdir(os.getcwd()):\n",
    "    if file.endswith('.csv'):\n",
    "        csv_combine=csv_combine.append(pd.read_csv(file))\n",
    "csv_combine.to_csv('combined_fastag_data.csv')\n",
    "data=pd.read_csv(r'comobined_fastag_data.csv',dtype=object)\n",
    "data.fillna('-',inplace=True)\n",
    "data"
   ]
  }
 ],
 "metadata": {
  "kernelspec": {
   "display_name": "Python 3 (ipykernel)",
   "language": "python",
   "name": "python3"
  },
  "language_info": {
   "codemirror_mode": {
    "name": "ipython",
    "version": 3
   },
   "file_extension": ".py",
   "mimetype": "text/x-python",
   "name": "python",
   "nbconvert_exporter": "python",
   "pygments_lexer": "ipython3",
   "version": "3.9.12"
  }
 },
 "nbformat": 4,
 "nbformat_minor": 5
}
