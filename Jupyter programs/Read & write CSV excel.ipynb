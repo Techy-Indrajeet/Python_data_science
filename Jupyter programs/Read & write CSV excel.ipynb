{
 "cells": [
  {
   "cell_type": "code",
   "execution_count": null,
   "id": "7f115bf4",
   "metadata": {},
   "outputs": [],
   "source": [
    "import pandas as pd\n",
    "data=pd.read_csv(\"dispatch_data.csv\",dtype=object)\n",
    "data.fillna('-',inplace=True)\n",
    "data"
   ]
  },
  {
   "cell_type": "code",
   "execution_count": null,
   "id": "2edaf150",
   "metadata": {},
   "outputs": [],
   "source": [
    "data[\"Product Name\"].max()"
   ]
  },
  {
   "cell_type": "code",
   "execution_count": null,
   "id": "af846971",
   "metadata": {},
   "outputs": [],
   "source": [
    "import pandas as pd\n",
    "data=pd.read_excel(\"dispatch_data.xlsx\",dtype=object)\n",
    "data.fillna('-',inplace=True)\n",
    "data"
   ]
  },
  {
   "cell_type": "code",
   "execution_count": null,
   "id": "dd25a562",
   "metadata": {},
   "outputs": [],
   "source": [
    "data=[\n",
    "    (101,'Ramu',95,'A+'),\n",
    "     (102,'Shyam',90,'A'),\n",
    "     (103,'Ramu',85,'B+')\n",
    "]\n",
    "data=pd.DataFrame(data,columns=[\"Roll_No\",\"Name\",\"Mark\",\"Grade\"])\n",
    "data"
   ]
  },
  {
   "cell_type": "code",
   "execution_count": null,
   "id": "71387f34",
   "metadata": {},
   "outputs": [],
   "source": [
    "data1=[\n",
    "    {\"Roll_No\":\"101\",\"Class\":\"10\",\"Subject\":\"IT\"},\n",
    "     {\"Roll_No\":\"102\",\"Class\":\"11\",\"Subject\":\"Web-Development\"},\n",
    "     {\"Roll_No\":\"103\",\"Class\":\"12\",\"Subject\":\"OS\"},\n",
    "     {\"Roll_No\":\"104\",\"Class\":\"12\",\"Subject\":\"SE\"},\n",
    "     {\"Roll_No\":\"105\",\"Class\":\"12\",\"Subject\":\"Python\"}\n",
    "]\n",
    "data1=pd.DataFrame(data1)\n",
    "data1"
   ]
  },
  {
   "cell_type": "code",
   "execution_count": null,
   "id": "2dc5b5b7",
   "metadata": {},
   "outputs": [],
   "source": [
    "import pandas as pd\n",
    "data=pd.read_excel('Computer_data.xlsx')\n",
    "data.fillna(\"18.0\",inplace=True)\n",
    "data"
   ]
  },
  {
   "cell_type": "code",
   "execution_count": null,
   "id": "1e47a386",
   "metadata": {},
   "outputs": [],
   "source": [
    "import pandas as pd\n",
    "\n",
    "def convert_data(cell):\n",
    "    if cell==\"n.a.\":\n",
    "        return '0'\n",
    "    return cell\n",
    "data=pd.read_excel('Computer_data.xlsx','Sheet1',converters={'Gst':convert_data\n",
    "})\n",
    "data"
   ]
  },
  {
   "cell_type": "code",
   "execution_count": null,
   "id": "a1bb220e",
   "metadata": {},
   "outputs": [],
   "source": []
  }
 ],
 "metadata": {
  "kernelspec": {
   "display_name": "Python 3 (ipykernel)",
   "language": "python",
   "name": "python3"
  },
  "language_info": {
   "codemirror_mode": {
    "name": "ipython",
    "version": 3
   },
   "file_extension": ".py",
   "mimetype": "text/x-python",
   "name": "python",
   "nbconvert_exporter": "python",
   "pygments_lexer": "ipython3",
   "version": "3.10.4"
  },
  "vscode": {
   "interpreter": {
    "hash": "3ad933181bd8a04b432d3370b9dc3b0662ad032c4dfaa4e4f1596c548f763858"
   }
  }
 },
 "nbformat": 4,
 "nbformat_minor": 5
}
