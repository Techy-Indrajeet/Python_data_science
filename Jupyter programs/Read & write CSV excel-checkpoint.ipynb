{
 "cells": [
  {
   "cell_type": "code",
   "execution_count": null,
   "id": "9b233a3a-b98d-488c-bde2-c6c0b48b936c",
   "metadata": {},
   "outputs": [],
   "source": []
  }
 ],
 "metadata": {
  "kernelspec": {
   "display_name": "",
   "name": ""
  },
  "language_info": {
   "name": ""
  }
 },
 "nbformat": 4,
 "nbformat_minor": 5
}
