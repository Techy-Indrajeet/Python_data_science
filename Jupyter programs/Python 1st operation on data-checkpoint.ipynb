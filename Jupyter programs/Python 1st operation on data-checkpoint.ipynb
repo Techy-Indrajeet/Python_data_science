{
 "cells": [
  {
   "cell_type": "code",
   "execution_count": null,
   "id": "7f77ec61-c777-479a-acfe-ca87c49ec1e2",
   "metadata": {},
   "outputs": [],
   "source": []
  }
 ],
 "metadata": {
  "kernelspec": {
   "display_name": "",
   "name": ""
  },
  "language_info": {
   "name": ""
  }
 },
 "nbformat": 4,
 "nbformat_minor": 5
}
